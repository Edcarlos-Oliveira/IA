{
 "cells": [
  {
   "cell_type": "code",
   "execution_count": null,
   "metadata": {},
   "outputs": [],
   "source": [
    "pip install --upgrade \"ibm-watson>=6.1.0\""
   ]
  },
  {
   "cell_type": "code",
   "execution_count": 1,
   "metadata": {},
   "outputs": [],
   "source": [
    "# Dados da api\n",
    "nlu_apikey = \"Sua apiKey aqui\"\n",
    "nlu_url = \"Sua url aqui"
   ]
  },
  {
   "cell_type": "code",
   "execution_count": 2,
   "metadata": {},
   "outputs": [],
   "source": [
    "# Criando os comentários para ser usado na Api\n",
    "dados = {'comentarios':['Péssimo app não atende o esperado', 'Não gostei horrível', 'Adorei atende minhas necessidades', 'Lixo trava toda hora', 'Interessante tem grande potencial', 'Confesso que não uso muito', 'O app tem muita instabilidade', 'Estou tendo problemas com o uso do app', 'Muito bom excelente', 'Gostei muito achei perfeito','Lamentável app não atende o esperado', 'Gostei supera os demais apps', 'Adorei atende minhas necessidades', 'Que coisa ruim trava toda hora', 'Tem grande potencial', 'Não uso muito', 'O app tem muita falha', 'Não tenho problemas com o uso do app', 'Muito bom excelente', 'Odiei nem abre']}"
   ]
  },
  {
   "cell_type": "code",
   "execution_count": 18,
   "metadata": {},
   "outputs": [],
   "source": [
    "# Importando as bibliotecas necessárias\n",
    "import json\n",
    "from flask import Flask, jsonify, request\n",
    "from ibm_watson import NaturalLanguageUnderstandingV1\n",
    "from ibm_cloud_sdk_core.authenticators import IAMAuthenticator\n",
    "from ibm_watson.natural_language_understanding_v1 import Features, ConceptsOptions, RelationsOptions, EmotionOptions, EntitiesOptions, SemanticRolesOptions, SentimentOptions, CategoriesOptions, SyntaxOptions, SyntaxOptionsTokens"
   ]
  },
  {
   "cell_type": "code",
   "execution_count": 19,
   "metadata": {},
   "outputs": [],
   "source": [
    "# Autenticando a chave\n",
    "authenticator = IAMAuthenticator(nlu_apikey)\n",
    "natural_language_understanding = NaturalLanguageUnderstandingV1(\n",
    "    version='2023-06-23',\n",
    "    authenticator=authenticator\n",
    ")\n",
    "natural_language_understanding.set_service_url(nlu_url)"
   ]
  },
  {
   "cell_type": "code",
   "execution_count": 20,
   "metadata": {},
   "outputs": [],
   "source": [
    "# Analisando os positivos e negativos e adcionando nas respectivas listas\n",
    "positivos = list()\n",
    "negativos = list()\n",
    "\n",
    "for i in range(len(dados['comentarios'])):\n",
    "    response = natural_language_understanding.analyze(text=dados['comentarios'][i], language='pt', features=Features(sentiment=SemanticRolesOptions())).get_result(),\n",
    "    \n",
    "    for sent in response:\n",
    "        if (sent['sentiment']['document']['label']) == 'positive':\n",
    "            positivos.append(dados['comentarios'][i])\n",
    "        else:\n",
    "            negativos.append(dados['comentarios'][i])\n"
   ]
  },
  {
   "cell_type": "code",
   "execution_count": 21,
   "metadata": {},
   "outputs": [],
   "source": [
    "# Comentarios com substantitvos positivos\n",
    "subs_positivos = list()\n",
    "\n",
    "for subP in range(len(positivos)):\n",
    "    response_subP = natural_language_understanding.analyze(text=positivos[subP], \n",
    "                                                          features=Features(syntax=SyntaxOptions(sentences=True, \n",
    "                                                          tokens=SyntaxOptionsTokens(lemma=True, part_of_speech=True)))).get_result(),\n",
    "    for subsP in response_subP:\n",
    "        if (subsP['syntax']['tokens'][2]['part_of_speech']) == 'NOUN':\n",
    "            subs_positivos.append(subsP['syntax']['tokens'][2]['text'])\n",
    "result_subP = (f'Total(is): {len(subs_positivos)}, Comentário(s): {sorted(subs_positivos)}')"
   ]
  },
  {
   "cell_type": "code",
   "execution_count": 22,
   "metadata": {},
   "outputs": [],
   "source": [
    "# Comentarios com substantitvos negativos\n",
    "subs_negativos = list()\n",
    "\n",
    "for subN in range(len(negativos)):\n",
    "    response_subN = natural_language_understanding.analyze(text=negativos[subN], language='pt', \n",
    "                                                          features=Features(syntax=SyntaxOptions(sentences=True, \n",
    "                                                          tokens=SyntaxOptionsTokens(lemma=True, part_of_speech=True)))).get_result(),\n",
    "    for subsN in response_subN:\n",
    "        if (subsN['syntax']['tokens'][2]['part_of_speech']) == 'NOUN':\n",
    "            subs_negativos.append(subsN['syntax']['tokens'][2]['text'])\n",
    "result_subN= (f'Total(is): {len(subs_negativos)}, Comentário(s): {sorted(subs_negativos)}')    "
   ]
  },
  {
   "cell_type": "code",
   "execution_count": 33,
   "metadata": {},
   "outputs": [
    {
     "name": "stdout",
     "output_type": "stream",
     "text": [
      "A lista dos comentários POSITIVOS: ['Adorei atende minhas necessidades', 'Interessante tem grande potencial', 'Muito bom excelente', 'Gostei muito achei perfeito', 'Gostei supera os demais apps', 'Adorei atende minhas necessidades', 'Tem grande potencial', 'Muito bom excelente']\n",
      "\n",
      "A Lista dos comentários NEGATIVOS: ['Péssimo app não atende o esperado', 'Não gostei horrível', 'Lixo trava toda hora', 'Confesso que não uso muito', 'O app tem muita instabilidade', 'Estou tendo problemas com o uso do app', 'Lamentável app não atende o esperado', 'Que coisa ruim trava toda hora', 'Não uso muito', 'O app tem muita falha', 'Não tenho problemas com o uso do app', 'Odiei nem abre']\n",
      "\n",
      "Total de substantivos POSITIVOS identificados: Total(is): 1, Comentário(s): ['potencial']\n",
      "\n",
      "Total de substantivos NEGATIVOS identificados: Total(is): 2, Comentário(s): ['problemas', 'problemas']\n"
     ]
    }
   ],
   "source": [
    "# Exibindo os resultados\n",
    "print(f'A lista dos comentários POSITIVOS: {positivos}\\n')\n",
    "print(f'A Lista dos comentários NEGATIVOS: {negativos}\\n')\n",
    "print(f'Total de substantivos POSITIVOS identificados: {result_subP}\\n')\n",
    "print(f'Total de substantivos NEGATIVOS identificados: {result_subN}')"
   ]
  }
 ],
 "metadata": {
  "kernelspec": {
   "display_name": "Python 3",
   "language": "python",
   "name": "python3"
  },
  "language_info": {
   "codemirror_mode": {
    "name": "ipython",
    "version": 3
   },
   "file_extension": ".py",
   "mimetype": "text/x-python",
   "name": "python",
   "nbconvert_exporter": "python",
   "pygments_lexer": "ipython3",
   "version": "3.10.11"
  },
  "orig_nbformat": 4
 },
 "nbformat": 4,
 "nbformat_minor": 2
}
