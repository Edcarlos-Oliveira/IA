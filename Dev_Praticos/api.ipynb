{
 "cells": [
  {
   "cell_type": "code",
   "execution_count": null,
   "metadata": {},
   "outputs": [],
   "source": [
    "pip install --upgrade \"ibm-watson>=6.1.0\""
   ]
  },
  {
   "cell_type": "code",
   "execution_count": 2,
   "metadata": {},
   "outputs": [],
   "source": [
    "# Removido o apiKey e url: \n",
    "nlu_apikey = \" \"\n",
    "nlu_url = \" \""
   ]
  },
  {
   "cell_type": "code",
   "execution_count": 3,
   "metadata": {},
   "outputs": [],
   "source": [
    "# Importando os módulos necessários\n",
    "import json\n",
    "from ibm_watson import NaturalLanguageUnderstandingV1\n",
    "from ibm_cloud_sdk_core.authenticators import IAMAuthenticator\n",
    "from ibm_watson.natural_language_understanding_v1 import Features, ConceptsOptions, RelationsOptions, EmotionOptions, EntitiesOptions, SemanticRolesOptions, SentimentOptions, CategoriesOptions "
   ]
  },
  {
   "cell_type": "code",
   "execution_count": 4,
   "metadata": {},
   "outputs": [],
   "source": [
    "authenticator = IAMAuthenticator(nlu_apikey)\n",
    "natural_language_understanding = NaturalLanguageUnderstandingV1(\n",
    "    version='2023-06-23',\n",
    "    authenticator=authenticator\n",
    ")\n",
    "natural_language_understanding.set_service_url(nlu_url)"
   ]
  },
  {
   "cell_type": "code",
   "execution_count": null,
   "metadata": {},
   "outputs": [],
   "source": [
    "response = natural_language_understanding.analyze(\n",
    "    text = 'Who is President Brazil',\n",
    "    features = Features(\n",
    "        categories=CategoriesOptions(),\n",
    "        concepts=ConceptsOptions(),\n",
    "        emotion=EmotionOptions(),\n",
    "        entities=EntitiesOptions(),\n",
    "        sentiment=SentimentOptions())).get_result(),\n",
    "\n",
    "print(json.dumps(response, indent=2))\n",
    "    "
   ]
  },
  {
   "cell_type": "code",
   "execution_count": null,
   "metadata": {},
   "outputs": [],
   "source": [
    "response = natural_language_understanding.analyze(\n",
    "    text = 'Steve Jobs is the founder of Apple',\n",
    "    features = Features(\n",
    "        entities=EntitiesOptions(),\n",
    "        semantic_roles=SemanticRolesOptions())).get_result(),\n",
    "\n",
    "print(json.dumps(response, indent=2))"
   ]
  },
  {
   "cell_type": "code",
   "execution_count": null,
   "metadata": {},
   "outputs": [],
   "source": [
    "# Limitação do watson\n",
    "response = natural_language_understanding.analyze(\n",
    "    text = 'Na FIAP, os alunos são muito dedicados.',\n",
    "    features = Features(\n",
    "        relations=RelationsOptions(),\n",
    "        concepts=ConceptsOptions(),\n",
    "        emotion=EmotionOptions(),\n",
    "        entities=EntitiesOptions(),\n",
    "        semantic_roles=SemanticRolesOptions(),\n",
    "        sentiment=SentimentOptions())).get_result(),\n",
    "\n",
    "print(json.dumps(response, indent=2))"
   ]
  }
 ],
 "metadata": {
  "kernelspec": {
   "display_name": "Python 3",
   "language": "python",
   "name": "python3"
  },
  "language_info": {
   "codemirror_mode": {
    "name": "ipython",
    "version": 3
   },
   "file_extension": ".py",
   "mimetype": "text/x-python",
   "name": "python",
   "nbconvert_exporter": "python",
   "pygments_lexer": "ipython3",
   "version": "3.10.11"
  },
  "orig_nbformat": 4
 },
 "nbformat": 4,
 "nbformat_minor": 2
}
