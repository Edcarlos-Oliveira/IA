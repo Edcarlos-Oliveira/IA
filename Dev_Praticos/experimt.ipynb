{
 "cells": [
  {
   "cell_type": "code",
   "execution_count": 1,
   "metadata": {},
   "outputs": [],
   "source": [
    "primeiro = \"Olá Mundo!\""
   ]
  },
  {
   "cell_type": "code",
   "execution_count": null,
   "metadata": {},
   "outputs": [],
   "source": [
    "print(primeiro)"
   ]
  },
  {
   "cell_type": "code",
   "execution_count": 5,
   "metadata": {},
   "outputs": [],
   "source": [
    "# Importando os módulos necessários:\n",
    "\n",
    "from sklearn.datasets import load_breast_cancer\n",
    "from sklearn.datasets import load_diabetes\n",
    "from sklearn import svm\n",
    "from sklearn.tree import DecisionTreeClassifier\n",
    "from sklearn.linear_model import LinearRegression\n",
    "from sklearn.model_selection import train_test_split\n",
    "import matplotlib.pylab as plt\n",
    "# Necessário para os gráficos gerados serem exibidos diretamente no notebook\n",
    "%matplotlib inline "
   ]
  },
  {
   "cell_type": "code",
   "execution_count": 6,
   "metadata": {},
   "outputs": [],
   "source": [
    "# Carregando os datasets\n",
    "dataset_cancer = load_breast_cancer()"
   ]
  },
  {
   "cell_type": "code",
   "execution_count": null,
   "metadata": {},
   "outputs": [],
   "source": [
    "# Mostrando os atributos\n",
    "print(dataset_cancer.feature_names)"
   ]
  },
  {
   "cell_type": "code",
   "execution_count": null,
   "metadata": {},
   "outputs": [],
   "source": [
    "# Mostrando as classes\n",
    "print(dataset_cancer.target_names)"
   ]
  },
  {
   "cell_type": "code",
   "execution_count": 12,
   "metadata": {},
   "outputs": [],
   "source": [
    "# Dataset diabetes\n",
    "dataset_diabetes = load_diabetes()"
   ]
  },
  {
   "cell_type": "code",
   "execution_count": null,
   "metadata": {},
   "outputs": [],
   "source": [
    "# Atributos\n",
    "print(dataset_diabetes.feature_names)"
   ]
  },
  {
   "cell_type": "code",
   "execution_count": null,
   "metadata": {},
   "outputs": [],
   "source": [
    "# Classes\n",
    "print(dataset_diabetes.target)"
   ]
  },
  {
   "cell_type": "code",
   "execution_count": 37,
   "metadata": {},
   "outputs": [],
   "source": [
    "# Criando os treinamentos dataset Cancer\n",
    "X_train_can, X_test_can, y_train_can, y_test_can = train_test_split(dataset_cancer.data, dataset_cancer.target, stratify=dataset_cancer.target, random_state=42)\n",
    "X_train_dia, X_test_dia, y_train_dia, y_test_dia = train_test_split(dataset_cancer.data, dataset_cancer.target, stratify=dataset_cancer.target, random_state=42)"
   ]
  },
  {
   "cell_type": "code",
   "execution_count": 38,
   "metadata": {},
   "outputs": [],
   "source": [
    "# Definindo a acuracia SVM\n",
    "tre_acc = []\n",
    "tes_acc = []\n",
    "\n",
    "kernels = ['linear', 'rbf', 'sigmoid']\n",
    "for kernel in kernels:\n",
    "    svm_model = svm.SVC(kernel=kernel)\n",
    "\n",
    "    svm_model.fit(X_train_can, y_train_can)\n",
    "    tre_acc.append(svm_model.score(X_train_can, y_train_can))\n",
    "    tes_acc.append(svm_model.score(X_test_can, y_test_can)) "
   ]
  },
  {
   "cell_type": "code",
   "execution_count": null,
   "metadata": {},
   "outputs": [],
   "source": [
    "# Mostrando o grafico\n",
    "plt.plot(kernels, tre_acc, label='Acurácia no conj. treino')\n",
    "plt.plot(kernels, tes_acc, label='Acurácia no conj. teste')\n",
    "plt.ylabel('Acurácia')\n",
    "plt.xlabel('kernels')\n",
    "plt.legend()"
   ]
  },
  {
   "cell_type": "code",
   "execution_count": 34,
   "metadata": {},
   "outputs": [],
   "source": [
    "# Criando a Arvore de decisão\n",
    "tre_acc_tree = []\n",
    "tes_acc_tree = []\n",
    "\n",
    "# Definido a profundidade máxima\n",
    "prof_max = range(1,10)\n",
    "\n",
    "for md in prof_max:\n",
    "    tree = DecisionTreeClassifier(max_depth=md, random_state=0)\n",
    "    tree.fit(X_train_can, y_train_can)\n",
    "    tre_acc_tree.append(tree.score(X_train_can, y_train_can))\n",
    "    tes_acc_tree.append(tree.score(X_test_can, y_test_can))"
   ]
  },
  {
   "cell_type": "code",
   "execution_count": null,
   "metadata": {},
   "outputs": [],
   "source": [
    "# Mostrando o grafico\n",
    "plt.plot(prof_max, tre_acc_tree, label='Acurácia conj. treino')\n",
    "plt.plot(prof_max, tes_acc_tree, label='Acurácia conj. teste')\n",
    "plt.ylabel('Acurácia')\n",
    "plt.xlabel('Profundidade Máxima')\n",
    "plt.legend()"
   ]
  },
  {
   "cell_type": "code",
   "execution_count": 40,
   "metadata": {},
   "outputs": [],
   "source": [
    "# Criando a Regressão Linear\n",
    "reg_tre_acc = []\n",
    "reg_tes_acc = []\n",
    "\n",
    "for interception in [True, False]:\n",
    "    regr = LinearRegression(fit_intercept=interception)\n",
    "    regr.fit(X_train_dia, y_train_dia)\n",
    "    reg_tre_acc.append(regr.score(X_train_dia, y_train_dia))\n",
    "    reg_tes_acc.append(regr.score(X_test_dia, y_test_dia))"
   ]
  },
  {
   "cell_type": "code",
   "execution_count": null,
   "metadata": {},
   "outputs": [],
   "source": [
    "# Mostrando o Gráfico\n",
    "plt.plot([\"interc\", \"No Interc\"], reg_tre_acc, label='Acurácia no conj. treino')\n",
    "plt.plot([\"interc\", \"No Interc\"], reg_tes_acc, label='Acurácia no conj. teste')\n",
    "plt.ylabel('Acurácia')\n",
    "plt.xlabel('Fit Intercept')\n",
    "plt.legend()"
   ]
  }
 ],
 "metadata": {
  "kernelspec": {
   "display_name": "Python 3",
   "language": "python",
   "name": "python3"
  },
  "language_info": {
   "codemirror_mode": {
    "name": "ipython",
    "version": 3
   },
   "file_extension": ".py",
   "mimetype": "text/x-python",
   "name": "python",
   "nbconvert_exporter": "python",
   "pygments_lexer": "ipython3",
   "version": "3.10.11"
  },
  "orig_nbformat": 4
 },
 "nbformat": 4,
 "nbformat_minor": 2
}
